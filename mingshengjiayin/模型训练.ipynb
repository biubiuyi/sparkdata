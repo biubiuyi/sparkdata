{
 "cells": [
  {
   "cell_type": "code",
   "execution_count": 250,
   "metadata": {
    "collapsed": false
   },
   "outputs": [],
   "source": [
    "import pandas as pd\n",
    "import xgboost as xgb\n",
    "from sklearn.cross_validation import train_test_split\n",
    "from sklearn.metrics import *\n",
    "from sklearn.linear_model import LogisticRegression,LogisticRegressionCV\n",
    "from sklearn import svm \n",
    "import matplotlib.pyplot as plt\n",
    "import numpy as np"
   ]
  },
  {
   "cell_type": "markdown",
   "metadata": {},
   "source": [
    "### 加载数据"
   ]
  },
  {
   "cell_type": "code",
   "execution_count": 251,
   "metadata": {
    "collapsed": false
   },
   "outputs": [
    {
     "data": {
      "text/plain": [
       "(1391, 63)"
      ]
     },
     "execution_count": 251,
     "metadata": {},
     "output_type": "execute_result"
    }
   ],
   "source": [
    "# samples = pd.read_csv('./data/samples_all_fillna_nor.csv',index_col=0)\n",
    "samples = pd.read_csv('./data/samples_all_fillna.csv',index_col=0)\n",
    "# samples = pd.read_csv('./data/samples_pca.csv',index_col=0)\n",
    "\n",
    "test = samples.iloc[-200:,:]\n",
    "test_ma = xgb.DMatrix(test.iloc[:,:-1],label=test.iloc[:,-1])\n",
    "train = samples.iloc[:-200,:]\n",
    "samples.shape"
   ]
  },
  {
   "cell_type": "code",
   "execution_count": 252,
   "metadata": {
    "collapsed": true
   },
   "outputs": [],
   "source": [
    "def pro_optimization(y_pro,val_Y):    \n",
    "    res_list =[]\n",
    "    for pro in xrange(1,10):\n",
    "        result ={}\n",
    "        result['pro_thr'] = pro*1.0/10\n",
    "        y_pre_label = [1 if x>pro*1.0/10 else 0 for x in y_pro]\n",
    "        result['accuracy'] = accuracy_score(val_Y,y_pre_label)\n",
    "        result['precision'] =precision_score(val_Y,y_pre_label)\n",
    "        result['recall'] = recall_score(val_Y,y_pre_label)\n",
    "        result['f1_score'] =f1_score(val_Y,y_pre_label)\n",
    "        res_df = pd.DataFrame.from_dict([result])\n",
    "        res_list.append(result)\n",
    "    df =pd.DataFrame.from_dict(res_list)\n",
    "    return df"
   ]
  },
  {
   "cell_type": "code",
   "execution_count": 253,
   "metadata": {
    "collapsed": true
   },
   "outputs": [],
   "source": [
    "#ks\n",
    "def ks_plot(y_true,y_pre,model_name):\n",
    "    plt.figure()\n",
    "    fpr,tpr,t = roc_curve(y_true,y_pre)\n",
    "    plt.plot(fpr,label='FPR')\n",
    "    plt.plot(tpr,label='TPR')\n",
    "\n",
    "    gap = tpr-fpr\n",
    "    ks_index = np.where(gap == np.max(gap))\n",
    "    y = [fpr[ks_index], tpr[ks_index]]\n",
    "    x = [int(ks_index[0]), int(ks_index[0])]\n",
    "    ks_value = np.max(gap)\n",
    "    plt.plot(x,y,label='KS=%.2f'%ks_value)\n",
    "    \n",
    "    plt.title(\"%s KS graph\" % (model_name))\n",
    "    plt.legend(loc=\"mid right\")\n",
    "    plt.savefig('./figure/%s_f2.png'%model_name)\n",
    "    plt.show()"
   ]
  },
  {
   "cell_type": "markdown",
   "metadata": {},
   "source": [
    "### GBDT模型"
   ]
  },
  {
   "cell_type": "code",
   "execution_count": 254,
   "metadata": {
    "collapsed": true
   },
   "outputs": [],
   "source": [
    "def model_xgb(train):\n",
    "    #数据准备\n",
    "    X= train.iloc[:,:-1]\n",
    "    Y = train.iloc[:,-1]\n",
    "    train_X,val_X,train_Y,val_Y =train_test_split(X,Y,test_size=0.2)\n",
    "    dtrain = xgb.DMatrix(train_X,label=train_Y)\n",
    "    dval = xgb.DMatrix(val_X,label=val_Y)\n",
    "    #log\n",
    "    params = {\n",
    "        'booster': 'gbtree',\n",
    "        'objective': 'binary:logistic',\n",
    "#         'scale_pos_weight': 484130 / 7183,\n",
    "        'eval_metric': 'auc',\n",
    "        'gamma': 0.01,\n",
    "        'silent': 1,\n",
    "        'max_depth': 5,\n",
    "        'lambda': 0.1,\n",
    "        'subsample': 0.8,\n",
    "        'colsample_bytree': 0.2,\n",
    "        'min_child_weight': 0.1,\n",
    "        'eta': 0.016,\n",
    "        'nthread': 5\n",
    "    }\n",
    "\n",
    "    evals_result = {}\n",
    "    watchlist = [(dtrain,'train'),(dval,'val')]\n",
    "    xgb_model = xgb.train(params,dtrain,num_boost_round=1000,early_stopping_rounds=200,verbose_eval=50,\n",
    "                          evals=watchlist,evals_result=evals_result)\n",
    "     \n",
    "    result = max(evals_result['val']['auc'])\n",
    "    return xgb_model,result"
   ]
  },
  {
   "cell_type": "code",
   "execution_count": 255,
   "metadata": {
    "collapsed": false
   },
   "outputs": [
    {
     "name": "stdout",
     "output_type": "stream",
     "text": [
      "[0]\ttrain-auc:0.798896\tval-auc:0.654663\n",
      "Multiple eval metrics have been passed: 'val-auc' will be used for early stopping.\n",
      "\n",
      "Will train until val-auc hasn't improved in 200 rounds.\n",
      "[50]\ttrain-auc:0.950667\tval-auc:0.813415\n",
      "[100]\ttrain-auc:0.970359\tval-auc:0.817288\n",
      "[150]\ttrain-auc:0.984412\tval-auc:0.81901\n",
      "[200]\ttrain-auc:0.989991\tval-auc:0.834362\n",
      "[250]\ttrain-auc:0.992877\tval-auc:0.832927\n",
      "[300]\ttrain-auc:0.995316\tval-auc:0.832281\n",
      "[350]\ttrain-auc:0.996626\tval-auc:0.831564\n",
      "[400]\ttrain-auc:0.99749\tval-auc:0.834003\n",
      "[450]\ttrain-auc:0.99813\tval-auc:0.833286\n",
      "[500]\ttrain-auc:0.99877\tval-auc:0.834146\n",
      "[550]\ttrain-auc:0.999045\tval-auc:0.837159\n",
      "[600]\ttrain-auc:0.999279\tval-auc:0.83429\n",
      "[650]\ttrain-auc:0.999441\tval-auc:0.83429\n",
      "Stopping. Best iteration:\n",
      "[475]\ttrain-auc:0.998537\tval-auc:0.837303\n",
      "\n"
     ]
    }
   ],
   "source": [
    "model_xgb,auc = model_xgb(train)\n",
    "y_pro = model_xgb.predict(test_ma)\n",
    "# df = pro_optimization(y_pro,test.iloc[:,-1])\n"
   ]
  },
  {
   "cell_type": "code",
   "execution_count": 256,
   "metadata": {
    "collapsed": false
   },
   "outputs": [],
   "source": [
    "ks_plot(test.iloc[:,-1],y_pro,'GBDT')"
   ]
  },
  {
   "cell_type": "code",
   "execution_count": 257,
   "metadata": {
    "collapsed": true
   },
   "outputs": [],
   "source": [
    "#特征权重\n",
    "dic = model.get_fscore()\n",
    "fea_rank = pd.DataFrame.from_dict([dic])\n",
    "# fea_rank.T.sort_values(by=0,ascending= False).to_csv('./data/features_rank_model_nor.csv')\n",
    "# fea_rank.T.sort_values(by=0,ascending= False)"
   ]
  },
  {
   "cell_type": "markdown",
   "metadata": {
    "collapsed": true
   },
   "source": [
    "### LR模型"
   ]
  },
  {
   "cell_type": "code",
   "execution_count": 258,
   "metadata": {
    "collapsed": false
   },
   "outputs": [],
   "source": [
    "# samples = pd.read_csv('./data/samples_all_fillna.csv',index_col=0)\n",
    "# samples = pd.read_csv('./data/samples_pca.csv',index_col=0)\n",
    "# samples =samples.fillna(0)\n",
    "#数据准备\n",
    "X= samples.iloc[:,:-1]\n",
    "Y = samples.iloc[:,-1]\n",
    "train_X,val_X,train_Y,val_Y =train_test_split(X,Y,test_size=0.2)"
   ]
  },
  {
   "cell_type": "code",
   "execution_count": 259,
   "metadata": {
    "collapsed": false
   },
   "outputs": [
    {
     "data": {
      "text/plain": [
       "LogisticRegressionCV(Cs=10, class_weight='balanced', cv=None, dual=False,\n",
       "           fit_intercept=True, intercept_scaling=1.0, max_iter=100,\n",
       "           multi_class='ovr', n_jobs=1, penalty='l2', random_state=None,\n",
       "           refit=True, scoring=None, solver='lbfgs', tol=0.0001, verbose=0)"
      ]
     },
     "execution_count": 259,
     "metadata": {},
     "output_type": "execute_result"
    }
   ],
   "source": [
    "#class_weight = {1:0.9,0:0.1}\n",
    "lg = LogisticRegressionCV(class_weight='balanced')\n",
    "lg.fit(train_X,train_Y)  "
   ]
  },
  {
   "cell_type": "code",
   "execution_count": 260,
   "metadata": {
    "collapsed": false
   },
   "outputs": [
    {
     "name": "stdout",
     "output_type": "stream",
     "text": [
      "accuracy: 0.709677419355\n",
      "precision: 0.19512195122\n",
      "recall: 0.516129032258\n",
      "f1_score: 0.283185840708\n"
     ]
    }
   ],
   "source": [
    "y_pre = lg.predict(val_X)\n",
    "print 'accuracy:',accuracy_score(val_Y,y_pre)\n",
    "print 'precision:',precision_score(val_Y,y_pre)\n",
    "print 'recall:',recall_score(val_Y,y_pre)\n",
    "print 'f1_score:',f1_score(val_Y,y_pre)"
   ]
  },
  {
   "cell_type": "code",
   "execution_count": 261,
   "metadata": {
    "collapsed": false
   },
   "outputs": [],
   "source": [
    "y_pro_lr = lg.predict_proba(val_X)\n",
    "y_pro_lr = [x[1] for x in y_pro_lr]\n",
    "ks_plot(val_Y,y_pro_lr,'LR')"
   ]
  },
  {
   "cell_type": "code",
   "execution_count": 262,
   "metadata": {
    "collapsed": true
   },
   "outputs": [],
   "source": [
    "# print 'accuracy:',accuracy_score(val_Y,y_pre_label)\n",
    "# print 'precision:',precision_score(val_Y,y_pre_label)\n",
    "# print 'recall:',recall_score(val_Y,y_pre_label)\n",
    "# print 'f1_score:',f1_score(val_Y,y_pre_label)"
   ]
  },
  {
   "cell_type": "markdown",
   "metadata": {},
   "source": [
    "### SVM 模型"
   ]
  },
  {
   "cell_type": "code",
   "execution_count": 263,
   "metadata": {
    "collapsed": false
   },
   "outputs": [
    {
     "data": {
      "text/plain": [
       "SVC(C=1.0, cache_size=200, class_weight='balanced', coef0=0.0,\n",
       "  decision_function_shape=None, degree=3, gamma='auto', kernel='rbf',\n",
       "  max_iter=-1, probability=True, random_state=None, shrinking=True,\n",
       "  tol=0.001, verbose=False)"
      ]
     },
     "execution_count": 263,
     "metadata": {},
     "output_type": "execute_result"
    }
   ],
   "source": [
    "model_svm = svm.SVC(class_weight='balanced',probability=True)\n",
    "model_svm.fit(train_X,train_Y)"
   ]
  },
  {
   "cell_type": "code",
   "execution_count": 264,
   "metadata": {
    "collapsed": true
   },
   "outputs": [],
   "source": [
    "y_pro_svm = model_svm.predict_proba(val_X)\n",
    "y_pro_svm = [x[1] for x in y_pro_svm]\n",
    "ks_plot(val_Y,y_pro_svm,'SVM')"
   ]
  },
  {
   "cell_type": "code",
   "execution_count": null,
   "metadata": {
    "collapsed": false
   },
   "outputs": [],
   "source": []
  },
  {
   "cell_type": "code",
   "execution_count": null,
   "metadata": {
    "collapsed": true
   },
   "outputs": [],
   "source": []
  },
  {
   "cell_type": "code",
   "execution_count": null,
   "metadata": {
    "collapsed": true
   },
   "outputs": [],
   "source": []
  },
  {
   "cell_type": "code",
   "execution_count": null,
   "metadata": {
    "collapsed": true
   },
   "outputs": [],
   "source": []
  }
 ],
 "metadata": {
  "kernelspec": {
   "display_name": "Python 2",
   "language": "python",
   "name": "python2"
  },
  "language_info": {
   "codemirror_mode": {
    "name": "ipython",
    "version": 2
   },
   "file_extension": ".py",
   "mimetype": "text/x-python",
   "name": "python",
   "nbconvert_exporter": "python",
   "pygments_lexer": "ipython2",
   "version": "2.7.13"
  }
 },
 "nbformat": 4,
 "nbformat_minor": 0
}
