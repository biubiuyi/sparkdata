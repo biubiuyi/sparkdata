{
 "cells": [
  {
   "cell_type": "code",
   "execution_count": 1,
   "metadata": {
    "collapsed": true
   },
   "outputs": [],
   "source": [
    "import os\n",
    "import config as cf\n",
    "import pandas as pd\n",
    "from multiprocessing import Pool,Process\n",
    "import numpy as np\n",
    "import minepy\n",
    "import pickle\n",
    "\n",
    "import warnings\n",
    "warnings.filterwarnings(\"ignore\")"
   ]
  },
  {
   "cell_type": "code",
   "execution_count": 14,
   "metadata": {
    "collapsed": true
   },
   "outputs": [],
   "source": [
    "#特征预处理,离散特征数值化\n",
    "def dummy_data(dummy_col,df):\n",
    "    \n",
    "    if cf.dummy_type==\"dummy\": #one-hot 编码\n",
    "        df_new = pd.DataFrame()\n",
    "        for col in dummy_col:\n",
    "            df_new = df_new.concat(pd.get_dummies(df[col])) \n",
    "        df = df.drop(dummy_col,axis=1)\n",
    "        df = df.concat(df_new)\n",
    "    if cf.dummy_type==\"factorize\": #特征属性值枚举\n",
    "        for col in dummy_col:\n",
    "            df[col]=pd.factorize(df.col)[0]\n",
    "    return df\n",
    "\n",
    "\n",
    "#特征筛选:空值率,方差,相关性\n",
    "def null_filter(df):\n",
    "    print \"1.过滤空值较多的特征列\"\n",
    "    null_num = df.shape[0]*cf.null_ratio\n",
    "    for col in df.columns:\n",
    "        if sum(df[col].isnull()) >null_num:\n",
    "            df.drop(col,axis=1,inplace=True)   \n",
    "    #也可以过滤空值较多的行\n",
    "    return df\n",
    "\n",
    "def std_filter(df):\n",
    "    print \"2.过滤方差较小的特征列\"\n",
    "    for col in df.columns:\n",
    "        try:\n",
    "            std_c = np.nanstd(df[col])\n",
    "            if std_c < cf.std_num:\n",
    "                df.drop(col,axis=1,inplace=True)\n",
    "        except:\n",
    "            pass\n",
    "\n",
    "def corr_func(X1,X2,corr_type=None):\n",
    "    if corr_type==None:\n",
    "        corr_type = cf.corr_type\n",
    "    \n",
    "    X1 = pd.Series(np.array(X1.reshape(-1, 1)).T[0])\n",
    "    X2 = pd.Series(np.array(X2.reshape(-1, 1)).T[0])\n",
    "    if corr_type=='MIC':\n",
    "        mine = minepy.MINE(alpha=0.6, c=15, est=\"mic_approx\")\n",
    "        mine.compute_score(X1, X2)\n",
    "        corr = mine.mic()\n",
    "    if corr_type=='pearson':\n",
    "        corr = X1.corr(X2)\n",
    "    if corr_type=='spearman':\n",
    "        corr = X1.corr(X2, method=\"spearman\")\n",
    "    if corr_type=='kendall':\n",
    "        corr = X1.corr(X2, method=\"kendall\")\n",
    "    return abs(corr)\n",
    "\n",
    "\n",
    "#中间数据序列化到磁盘\n",
    "def pickle_data1(cross_feat):\n",
    "    \n",
    "    block = cross_feat[0,0]\n",
    "    feature_c = cross_feat[:,1:] #去掉第一列块号\n",
    "    \n",
    "    global filenamek\n",
    "    if operater == \"/\":\n",
    "        sts = \"d\"\n",
    "    elif sts == \"1/x\":\n",
    "        sts = \"l\"\n",
    "    elif sts == \"1/x+1/y\":\n",
    "        sts = \"m\"\n",
    "    fileName = path_tmp+ \"/\" +str(block)+sts+\".pkl\"\n",
    "    #判断该文件是否已经存在\n",
    "    while (True):\n",
    "        if os.path.exists(fileName):\n",
    "            sts = sts + \"1\"\n",
    "            fileName = path_tmp + \"/\" + str(block) + str(sts) + \".pkl\"\n",
    "        else:\n",
    "            break\n",
    "    f = file(fileName, \"wb\")\n",
    "    if feature_c.shape[1] > 1:\n",
    "        #去除特征交叉后高相关的特征\n",
    "        feature_c = f2f_remove(feature_c)\n",
    "    \n",
    "    pickle.dump(feature_c, f)\n",
    "    f.close()\n",
    "    \n",
    "def f2f_remove(feature_c):\n",
    "    \n",
    "    global feature_final \n",
    "    feature_final=0\n",
    "    \n",
    "    block = cf.block\n",
    "    pool =Pool(processes=cf.process_num)\n",
    "    block_size = feature_c.shape[1]/block\n",
    "    for i in xrange(block):\n",
    "        if i == block-1:\n",
    "            r = pool.apply_async(remove_feature,(feature_c[:,block_size*i:],feature_c,i,block_size),callback=pickle_data2)\n",
    "        else:\n",
    "            r = pool.apply_async(remove_feature,(feature_c[:,block_size*i:block_size*(i+1)],feature_c,i,block_size),callback=pickle_data2)\n",
    "    pool.close()\n",
    "    pool.join()\n",
    "    if r.successful():\n",
    "        print 'f2f_remove feature shape:',feature_fil.shape\n",
    "    \n",
    "    return feature_final\n",
    "\n",
    "def remove_feature(f_sub,f_all,index,block_size):    \n",
    "    n=0\n",
    "    start = index*block_size\n",
    "    for i in xrange(f_sub.shape[1]):\n",
    "        for j in xrange(start+i+1,f_all.shape[1]):\n",
    "            x1 = np.mat(f_sub[1:,i],dtype=float)\n",
    "            x2 = np.mat(f_all[1:,j],dtype=float)\n",
    "            if corr_func(x1,x2,) >= cf.corr_f2f:\n",
    "                break\n",
    "            try:\n",
    "                n=np.hstack((n,f_sub[:,i]))\n",
    "            except:\n",
    "                n=f_sub[:,i]\n",
    "    return n\n",
    "    \n",
    "def pickle_data2(result):\n",
    "    try:\n",
    "        result.shape\n",
    "        try:\n",
    "            feature_final = np.hstack((feature_final,result))\n",
    "        except: #合并之前feature_final还未初始化为矩阵\n",
    "            feature_final = result        \n",
    "    except: #返回值不是矩阵\n",
    "        pass\n",
    "        "
   ]
  },
  {
   "cell_type": "code",
   "execution_count": 33,
   "metadata": {
    "collapsed": true
   },
   "outputs": [],
   "source": [
    "def feature_cross(X,op):\n",
    "    global operater\n",
    "    operater = op\n",
    "    print operater\n",
    "\n",
    "    #设置numpy计算错误的处理类型,除计算操作出现错误时,抛出异常\n",
    "    old_err_state = np.seterr(divide='raise')\n",
    "    ignored_states = np.seterr(**old_err_state)  # 除以0为0\n",
    "\n",
    "    block = cf.block\n",
    "    pool = Pool(processes=cf.process_num)\n",
    "    size = X.shape[1] / block\n",
    "        \n",
    "    for index in xrange(block):\n",
    "        result = pool.apply_async(cross_fun,(X,op,index,size),callback=pickle_data1)\n",
    "    pool.close()\n",
    "    pool.join()\n",
    "    if result.successful():\n",
    "        print \"feature cross successfully\"\n",
    "    else:\n",
    "        print \"feature cross failed\"\n",
    "\n",
    "\n",
    "def cross_fun(X,op,index,size):\n",
    "    \n",
    "    if index==cf.block-1:\n",
    "        X_sub = X[:,index*size:]\n",
    "    else:\n",
    "        X_sub = X[:,index*size:(index+1)*size]\n",
    "    start = index*size    \n",
    "    cross_feat=np.ones((X_sub.shape[0],1))*block_index #交叉特征的第一列为块序号\n",
    "        \n",
    "    if op in [\"1/x\",\"log\",\"fft\"]:\n",
    "        for col in xrange(X_sub.shape[1]):\n",
    "            try:\n",
    "                cross_feat = cross_cal(X_sub[:,col],X_sub[:,col],op,cross_feat)\n",
    "            except:\n",
    "                continue\n",
    "    else:\n",
    "        for col1 in xrange(X_sub.shape[1]):            \n",
    "            for col2 in xrange(start+col1+1,X.shape[1]):\n",
    "                try:\n",
    "                    cross_feat = cross_cal(X_sub[:,col1],X[:,col2],op,cross_feat)      \n",
    "                except:\n",
    "                    continue                \n",
    "        \n",
    "    return cross_feat\n",
    "    \n",
    "\n",
    "def cross_cal(X1,X2,op,cross_feat):\n",
    "    \n",
    "    try:\n",
    "        x1 = np.mat(X1[1:,:],dtype='float').T\n",
    "        x2 = np.mat(X2[1:,:],dtype='float').T\n",
    "        h1 = str(X1[0,0])\n",
    "        h2 = str(X2[0,0])\n",
    "\n",
    "        if op ==\"*\":\n",
    "            a = np.multiply(x1, x2)  # x*y\n",
    "            head = np.mat([\"{} * {}\".format(h1, h2)])  # 保存header\n",
    "        if op ==\"+\":\n",
    "            a = x1+x2  # x+y\n",
    "            head = np.mat([\"{} + {}\".format(h1, h2)])  # 保存header\n",
    "        if op ==\"-\":\n",
    "            a = x1-x2  # x-y\n",
    "            head = np.mat([\"{} - {}\".format(h1,h2)])  # 保存header\n",
    "        if op==\"/\":\n",
    "            with np.errstate(divide='ignore', invalid='ignore'):\n",
    "                a = np.true_divide(x1,x2) # x/y\n",
    "                a[a == np.inf] = -999                \n",
    "                head = np.mat([\"{}/{}\".format(h1,h2)])  # 保存header\n",
    "        if op==\"1/x\":\n",
    "            oney = np.mat(np.ones(X1.shape[0])).T\n",
    "            with np.errstate(divide='ignore', invalid='ignore'):  # 1/x\n",
    "                a = np.true_divide(oney, x1)\n",
    "                a[a == np.inf] = -999\n",
    "            head = np.mat([\"1/{}\".format(h1)])  # 保存header\n",
    "        if op==\"1/x+1/y\":  # 1/x+1/y\n",
    "            oney = mat(np.ones(X1.shape[0])).T\n",
    "            with np.errstate(divide='ignore', invalid='ignore'):\n",
    "                a = np.true_divide(oney, x1) + np.true_divide(oney, x2)\n",
    "                a[a == np.inf] = -999\n",
    "            head = np.mat([\"1/{} + 1/{}\".format(h1, h2)])  # 保存header\n",
    "        if op==\"x^2+y^2\":  # x^2+y^2\n",
    "            a = np.multiply(x1,x1) + np.multiply(x2,x2)  \n",
    "            head = np.mat([\"{}^2 + {}^2\".format(h1, h2)])\n",
    "        if op==\"log\":  \n",
    "            a = np.log(x1)\n",
    "            a[a == -np.inf] = 0\n",
    "            head = np.mat([\" log({})\".format(h1)])\n",
    "        if case(\"fft\"):\n",
    "            a = np.nan_to_num(x1)\n",
    "            a = np.fft.fft(a)\n",
    "            head = np.mat([\" fft({})\".format(h1)])\n",
    "            \n",
    "        #变换后特征与原特征相关性比较\n",
    "        corr2label = corr_func(a,label)\n",
    "        corr2x1 = corr_func(a,x1)\n",
    "        x12label = corr_func(x1,label)\n",
    "        if corr2x1<cf.corr_f2f and corr2label>x12label and corr2label>cf.corr_f2label: \n",
    "            a = np.vstack((head, a))  #合并列名\n",
    "            cross_feat = np.hstack((cross_feat, a)) #与原特征合并\n",
    "    except:\n",
    "        print \"cross fail:{} and {} comput {}!\".format(h1,h2,op)\n",
    "        return cross_feat\n",
    "    return cross_feat \n",
    "\n"
   ]
  },
  {
   "cell_type": "code",
   "execution_count": 38,
   "metadata": {
    "collapsed": false
   },
   "outputs": [],
   "source": [
    "def feature_robot(X_df,y,dummy_col=[]):\n",
    "    \n",
    "    global label #样本标签\n",
    "    label=y\n",
    "    \n",
    "    #新建缓存数据文件夹\n",
    "    global path_tmp\n",
    "    path_tmp = os.path.abspath(cf.path)+'/pickledata'\n",
    "    if not os.path.exists(path_tmp):\n",
    "        os.makedirs(path_tmp)\n",
    "    \n",
    "    if len(dummy_col)>0:\n",
    "        print \"特征预处理中,请稍后.....\"\n",
    "        X = dummy_data(dummy_col,X_df)\n",
    "    \n",
    "    if cf.null_ratio<1:\n",
    "        print \"特征筛选中,请稍后.....\"\n",
    "        X = null_filter(X_df)\n",
    "    \n",
    "    if cf.std_num>0:\n",
    "        X = std_filter(X_df)\n",
    "        \n",
    "    print \"===============================开始进行特征变换，请稍后......====================================\"\n",
    "    funs = cf.funcs\n",
    "    head = np.mat(X_df.columns)\n",
    "    X = np.mat(X_df)\n",
    "    X = np.vstack((head,X))\n",
    "    print X\n",
    "    for op in funs:\n",
    "        feature_cross(X,op)     \n",
    "    "
   ]
  },
  {
   "cell_type": "code",
   "execution_count": 3,
   "metadata": {
    "collapsed": false
   },
   "outputs": [
    {
     "name": "stdout",
     "output_type": "stream",
     "text": [
      "特征机器人开始工作\n",
      "======================正在读取文件，请稍后......==============================\n"
     ]
    }
   ],
   "source": [
    "print \"特征机器人开始工作\"\n",
    "print \"======================正在读取文件，请稍后......==============================\"\n",
    "path1 = \"/home/sf/work/data/zhima_score_weibo_text_describe.csv\"#微博特征\n",
    "feat=pd.read_csv(path1,index_col=0)\n",
    "feat = feat.dropna(subset=['user_id','sum_reposts'])\n",
    "\n",
    "label = np.mat(feat['score']).T\n",
    "X = feat.iloc[:,1:]\n",
    "# feature_robot(X,label)"
   ]
  },
  {
   "cell_type": "code",
   "execution_count": 32,
   "metadata": {
    "collapsed": true
   },
   "outputs": [
    {
     "ename": "IndexError",
     "evalue": "index 1 is out of bounds for axis 1 with size 1",
     "output_type": "error",
     "traceback": [
      "\u001b[1;31m---------------------------------------------------------------------------\u001b[0m",
      "\u001b[1;31mIndexError\u001b[0m                                Traceback (most recent call last)",
      "\u001b[1;32m<ipython-input-32-fc54d9a022b1>\u001b[0m in \u001b[0;36m<module>\u001b[1;34m()\u001b[0m\n\u001b[1;32m----> 1\u001b[1;33m \u001b[0mlabel\u001b[0m\u001b[1;33m[\u001b[0m\u001b[1;36m1\u001b[0m\u001b[1;33m:\u001b[0m\u001b[1;33m,\u001b[0m\u001b[1;36m1\u001b[0m\u001b[1;33m]\u001b[0m\u001b[1;33m.\u001b[0m\u001b[0mshape\u001b[0m\u001b[1;33m\u001b[0m\u001b[0m\n\u001b[0m",
      "\u001b[1;32m/home/sf/anaconda2/lib/python2.7/site-packages/numpy/matrixlib/defmatrix.pyc\u001b[0m in \u001b[0;36m__getitem__\u001b[1;34m(self, index)\u001b[0m\n\u001b[0;32m    316\u001b[0m \u001b[1;33m\u001b[0m\u001b[0m\n\u001b[0;32m    317\u001b[0m         \u001b[1;32mtry\u001b[0m\u001b[1;33m:\u001b[0m\u001b[1;33m\u001b[0m\u001b[0m\n\u001b[1;32m--> 318\u001b[1;33m             \u001b[0mout\u001b[0m \u001b[1;33m=\u001b[0m \u001b[0mN\u001b[0m\u001b[1;33m.\u001b[0m\u001b[0mndarray\u001b[0m\u001b[1;33m.\u001b[0m\u001b[0m__getitem__\u001b[0m\u001b[1;33m(\u001b[0m\u001b[0mself\u001b[0m\u001b[1;33m,\u001b[0m \u001b[0mindex\u001b[0m\u001b[1;33m)\u001b[0m\u001b[1;33m\u001b[0m\u001b[0m\n\u001b[0m\u001b[0;32m    319\u001b[0m         \u001b[1;32mfinally\u001b[0m\u001b[1;33m:\u001b[0m\u001b[1;33m\u001b[0m\u001b[0m\n\u001b[0;32m    320\u001b[0m             \u001b[0mself\u001b[0m\u001b[1;33m.\u001b[0m\u001b[0m_getitem\u001b[0m \u001b[1;33m=\u001b[0m \u001b[0mFalse\u001b[0m\u001b[1;33m\u001b[0m\u001b[0m\n",
      "\u001b[1;31mIndexError\u001b[0m: index 1 is out of bounds for axis 1 with size 1"
     ]
    }
   ],
   "source": [
    "label[1:,1].shape\n"
   ]
  },
  {
   "cell_type": "code",
   "execution_count": 30,
   "metadata": {
    "collapsed": false
   },
   "outputs": [
    {
     "data": {
      "text/plain": [
       "(145066, 1)"
      ]
     },
     "execution_count": 30,
     "metadata": {},
     "output_type": "execute_result"
    }
   ],
   "source": [
    "label.shape"
   ]
  },
  {
   "cell_type": "code",
   "execution_count": 4,
   "metadata": {
    "collapsed": false
   },
   "outputs": [
    {
     "data": {
      "text/plain": [
       "(145066, 16)"
      ]
     },
     "execution_count": 4,
     "metadata": {},
     "output_type": "execute_result"
    }
   ],
   "source": [
    "np.mat(X).shape"
   ]
  },
  {
   "cell_type": "code",
   "execution_count": null,
   "metadata": {
    "collapsed": true
   },
   "outputs": [],
   "source": []
  }
 ],
 "metadata": {
  "kernelspec": {
   "display_name": "Python 2",
   "language": "python",
   "name": "python2"
  },
  "language_info": {
   "codemirror_mode": {
    "name": "ipython",
    "version": 2
   },
   "file_extension": ".py",
   "mimetype": "text/x-python",
   "name": "python",
   "nbconvert_exporter": "python",
   "pygments_lexer": "ipython2",
   "version": "2.7.13"
  }
 },
 "nbformat": 4,
 "nbformat_minor": 0
}
