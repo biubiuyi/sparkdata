{
 "cells": [
  {
   "cell_type": "code",
   "execution_count": 1,
   "metadata": {
    "collapsed": true
   },
   "outputs": [],
   "source": [
    "import os\n",
    "import config as cf\n",
    "import pandas as pd\n",
    "from multiprocessing import Pool,Process\n",
    "import numpy as np\n",
    "import minepy"
   ]
  },
  {
   "cell_type": "code",
   "execution_count": 2,
   "metadata": {
    "collapsed": false
   },
   "outputs": [
    {
     "name": "stdout",
     "output_type": "stream",
     "text": [
      "正在读取文件，请稍后......\n"
     ]
    },
    {
     "data": {
      "text/plain": [
       "(145066, 17)"
      ]
     },
     "execution_count": 2,
     "metadata": {},
     "output_type": "execute_result"
    }
   ],
   "source": [
    "print \"正在读取文件，请稍后......\"\n",
    "path1 = \"/home/sf/work/data/zhima_score_weibo_text_describe.csv\"#微博特征\n",
    "feat=pd.read_csv(path1,index_col=0)\n",
    "feat = feat.dropna(subset=['user_id','sum_reposts'])\n",
    "feat.shape"
   ]
  },
  {
   "cell_type": "code",
   "execution_count": 23,
   "metadata": {
    "collapsed": true
   },
   "outputs": [
    {
     "data": {
      "text/html": [
       "<div>\n",
       "<style>\n",
       "    .dataframe thead tr:only-child th {\n",
       "        text-align: right;\n",
       "    }\n",
       "\n",
       "    .dataframe thead th {\n",
       "        text-align: left;\n",
       "    }\n",
       "\n",
       "    .dataframe tbody tr th {\n",
       "        vertical-align: top;\n",
       "    }\n",
       "</style>\n",
       "<table border=\"1\" class=\"dataframe\">\n",
       "  <thead>\n",
       "    <tr style=\"text-align: right;\">\n",
       "      <th></th>\n",
       "      <th>score</th>\n",
       "      <th>user_id</th>\n",
       "      <th>sum_reposts</th>\n",
       "      <th>sum_comments</th>\n",
       "      <th>sum_attitudes</th>\n",
       "      <th>sum_favorited</th>\n",
       "      <th>sum_picture</th>\n",
       "      <th>sum_longtext</th>\n",
       "      <th>sum_original</th>\n",
       "      <th>avg_reposts</th>\n",
       "      <th>avg_comments</th>\n",
       "      <th>avg_attitudes</th>\n",
       "      <th>avg_favorited</th>\n",
       "      <th>avg_longtext</th>\n",
       "      <th>avg_orig</th>\n",
       "      <th>weibo_special</th>\n",
       "      <th>count_weibo</th>\n",
       "    </tr>\n",
       "    <tr>\n",
       "      <th>weboid</th>\n",
       "      <th></th>\n",
       "      <th></th>\n",
       "      <th></th>\n",
       "      <th></th>\n",
       "      <th></th>\n",
       "      <th></th>\n",
       "      <th></th>\n",
       "      <th></th>\n",
       "      <th></th>\n",
       "      <th></th>\n",
       "      <th></th>\n",
       "      <th></th>\n",
       "      <th></th>\n",
       "      <th></th>\n",
       "      <th></th>\n",
       "      <th></th>\n",
       "      <th></th>\n",
       "    </tr>\n",
       "  </thead>\n",
       "  <tbody>\n",
       "    <tr>\n",
       "      <th>1000063771</th>\n",
       "      <td>719</td>\n",
       "      <td>1.000064e+09</td>\n",
       "      <td>0.0</td>\n",
       "      <td>8.0</td>\n",
       "      <td>0.0</td>\n",
       "      <td>0.0</td>\n",
       "      <td>0.0</td>\n",
       "      <td>0.0</td>\n",
       "      <td>1.0</td>\n",
       "      <td>0.000000</td>\n",
       "      <td>0.333333</td>\n",
       "      <td>0.000000</td>\n",
       "      <td>0.0</td>\n",
       "      <td>0.0</td>\n",
       "      <td>0.041667</td>\n",
       "      <td>0.0</td>\n",
       "      <td>24.0</td>\n",
       "    </tr>\n",
       "    <tr>\n",
       "      <th>1000090837</th>\n",
       "      <td>746</td>\n",
       "      <td>1.000091e+09</td>\n",
       "      <td>0.0</td>\n",
       "      <td>0.0</td>\n",
       "      <td>0.0</td>\n",
       "      <td>0.0</td>\n",
       "      <td>0.0</td>\n",
       "      <td>0.0</td>\n",
       "      <td>2.0</td>\n",
       "      <td>0.000000</td>\n",
       "      <td>0.000000</td>\n",
       "      <td>0.000000</td>\n",
       "      <td>0.0</td>\n",
       "      <td>0.0</td>\n",
       "      <td>1.000000</td>\n",
       "      <td>0.0</td>\n",
       "      <td>2.0</td>\n",
       "    </tr>\n",
       "    <tr>\n",
       "      <th>1000165480</th>\n",
       "      <td>665</td>\n",
       "      <td>1.000165e+09</td>\n",
       "      <td>0.0</td>\n",
       "      <td>0.0</td>\n",
       "      <td>1.0</td>\n",
       "      <td>0.0</td>\n",
       "      <td>0.0</td>\n",
       "      <td>0.0</td>\n",
       "      <td>0.0</td>\n",
       "      <td>0.000000</td>\n",
       "      <td>0.000000</td>\n",
       "      <td>0.010000</td>\n",
       "      <td>0.0</td>\n",
       "      <td>0.0</td>\n",
       "      <td>0.000000</td>\n",
       "      <td>0.0</td>\n",
       "      <td>100.0</td>\n",
       "    </tr>\n",
       "    <tr>\n",
       "      <th>1000245841</th>\n",
       "      <td>760</td>\n",
       "      <td>1.000246e+09</td>\n",
       "      <td>0.0</td>\n",
       "      <td>4.0</td>\n",
       "      <td>4.0</td>\n",
       "      <td>0.0</td>\n",
       "      <td>6.0</td>\n",
       "      <td>0.0</td>\n",
       "      <td>8.0</td>\n",
       "      <td>0.000000</td>\n",
       "      <td>0.333333</td>\n",
       "      <td>0.333333</td>\n",
       "      <td>0.0</td>\n",
       "      <td>0.0</td>\n",
       "      <td>0.666667</td>\n",
       "      <td>0.0</td>\n",
       "      <td>12.0</td>\n",
       "    </tr>\n",
       "    <tr>\n",
       "      <th>1000314814</th>\n",
       "      <td>732</td>\n",
       "      <td>1.000315e+09</td>\n",
       "      <td>1.0</td>\n",
       "      <td>2.0</td>\n",
       "      <td>9.0</td>\n",
       "      <td>0.0</td>\n",
       "      <td>85.0</td>\n",
       "      <td>0.0</td>\n",
       "      <td>96.0</td>\n",
       "      <td>0.010204</td>\n",
       "      <td>0.020408</td>\n",
       "      <td>0.091837</td>\n",
       "      <td>0.0</td>\n",
       "      <td>0.0</td>\n",
       "      <td>0.979592</td>\n",
       "      <td>0.0</td>\n",
       "      <td>98.0</td>\n",
       "    </tr>\n",
       "  </tbody>\n",
       "</table>\n",
       "</div>"
      ],
      "text/plain": [
       "            score       user_id  sum_reposts  sum_comments  sum_attitudes  \\\n",
       "weboid                                                                      \n",
       "1000063771    719  1.000064e+09          0.0           8.0            0.0   \n",
       "1000090837    746  1.000091e+09          0.0           0.0            0.0   \n",
       "1000165480    665  1.000165e+09          0.0           0.0            1.0   \n",
       "1000245841    760  1.000246e+09          0.0           4.0            4.0   \n",
       "1000314814    732  1.000315e+09          1.0           2.0            9.0   \n",
       "\n",
       "            sum_favorited  sum_picture  sum_longtext  sum_original  \\\n",
       "weboid                                                               \n",
       "1000063771            0.0          0.0           0.0           1.0   \n",
       "1000090837            0.0          0.0           0.0           2.0   \n",
       "1000165480            0.0          0.0           0.0           0.0   \n",
       "1000245841            0.0          6.0           0.0           8.0   \n",
       "1000314814            0.0         85.0           0.0          96.0   \n",
       "\n",
       "            avg_reposts  avg_comments  avg_attitudes  avg_favorited  \\\n",
       "weboid                                                                \n",
       "1000063771     0.000000      0.333333       0.000000            0.0   \n",
       "1000090837     0.000000      0.000000       0.000000            0.0   \n",
       "1000165480     0.000000      0.000000       0.010000            0.0   \n",
       "1000245841     0.000000      0.333333       0.333333            0.0   \n",
       "1000314814     0.010204      0.020408       0.091837            0.0   \n",
       "\n",
       "            avg_longtext  avg_orig  weibo_special  count_weibo  \n",
       "weboid                                                          \n",
       "1000063771           0.0  0.041667            0.0         24.0  \n",
       "1000090837           0.0  1.000000            0.0          2.0  \n",
       "1000165480           0.0  0.000000            0.0        100.0  \n",
       "1000245841           0.0  0.666667            0.0         12.0  \n",
       "1000314814           0.0  0.979592            0.0         98.0  "
      ]
     },
     "execution_count": 23,
     "metadata": {},
     "output_type": "execute_result"
    }
   ],
   "source": [
    "feat.head(5)"
   ]
  },
  {
   "cell_type": "code",
   "execution_count": 26,
   "metadata": {
    "collapsed": true
   },
   "outputs": [],
   "source": [
    "#特征预处理,离散特征数值化\n",
    "def dummy_data(dummy_col,df):\n",
    "    \n",
    "    if cf.dummy_type==\"dummy\": #one-hot 编码\n",
    "        df_new = pd.DataFrame()\n",
    "        for col in dummy_col:\n",
    "            df_new = df_new.concat(pd.get_dummies(df[col])) \n",
    "        df = df.drop(dummy_col,axis=1)\n",
    "        df = df.concat(df_new)\n",
    "    if cf.dummy_type==\"factorize\": #特征属性值枚举\n",
    "        for col in dummy_col:\n",
    "            df[col]=pd.factorize(df.col)[0]\n",
    "            df.column1 =pd.factorize(df.column1)[0]\n",
    "    return df\n",
    "\n",
    "\n",
    "#特征筛选:空值率,方差,相关性\n",
    "def null_filter(df):\n",
    "    print \"=====过滤空值较多的特征列======\"\n",
    "    null_num = df.shape[0]*cf.null_ratio\n",
    "    for col in df.columns:\n",
    "        if sum(df[col].isnull()) >null_num:\n",
    "            df.drop(col,axis=1,inplace=True)   \n",
    "    #也可以过滤空值较多的行\n",
    "    return df\n",
    "\n",
    "def std_filter(df):\n",
    "    print \"======过滤方差较小的特征列=======\"\n",
    "    for col in df.columns:\n",
    "        try:\n",
    "            std_c = np.nanstd(df[col])\n",
    "            if std_c < cf.std_num:\n",
    "                df.drop(col,axis=1,inplace=True)\n",
    "        except:\n",
    "            pass\n",
    "\n",
    "def corr_func(X1,X2):\n",
    "    corr_type = cf.corr_type\n",
    "    X1 = pd.Series(np.array(X1.reshape(-1, 1)).T[0])\n",
    "    X2 = pd.Series(np.array(X2.reshape(-1, 1)).T[0])\n",
    "    if corr_type=='MIC':\n",
    "        mine = minepy.MINE(alpha=0.6, c=15, est=\"mic_approx\")\n",
    "        mine.compute_score(X1, X2)\n",
    "        corr = mine.mic()\n",
    "    if corr_type=='pearson':\n",
    "        corr = X1.corr(X2)\n",
    "    if corr_type=='spearman':\n",
    "        corr = X1.corr(X2, method=\"spearman\")\n",
    "    if corr_type=='kendall':\n",
    "        corr = X1.corr(X2, method=\"kendall\")\n",
    "    return abs(corr)\n",
    "    "
   ]
  },
  {
   "cell_type": "code",
   "execution_count": null,
   "metadata": {
    "collapsed": true
   },
   "outputs": [],
   "source": [
    "def feature_cross(X,op):\n",
    "    global operater\n",
    "    operater = op\n",
    "    print operater\n",
    "\n",
    "    #设置numpy计算错误的处理类型,除计算操作出现错误时,抛出异常\n",
    "#     old_err_state = np.seterr(divide='raise')\n",
    "#     ignored_states = np.seterr(**old_err_state)  # 除以0为0\n",
    "\n",
    "    pool = Pool(processes=process_num)\n",
    "    block_size = X.shape[1] / cf.block\n",
    "        \n",
    "    for block_index in xrange(block):\n",
    "        result = pool.apply_async(cross_fun,(X.iloc[:,block_size*block_index:block_size*(block_index+1)],X,op,block_index),callback=pickle_data)\n",
    "    if X.shape[1] % cf.block:\n",
    "        result = pool.apply_async(cross_fun,(X.iloc[:,block_size*block:],X,op),callback=pickle_data,block)\n",
    "    pool.close()\n",
    "    pool.join()\n",
    "    if result.successful():\n",
    "        print \"feature cross successfully\"\n",
    "\n",
    "\n",
    "def cross_fun(X_sub,X,op,block_index):\n",
    "    \n",
    "    cross_feat=np.ones((X_sub.shape[0],1))*block_index #交叉特征的第一列为块序号\n",
    "    \n",
    "    if op in [\"1/x\",\"log\",\"fft\"]:\n",
    "        for i in xrange(X_sub.shape[1]):\n",
    "            cross_cal()\n",
    "        \n",
    "    \n",
    "    \n",
    "\n",
    "\n",
    "\n",
    "def cross_cal()"
   ]
  },
  {
   "cell_type": "code",
   "execution_count": 12,
   "metadata": {
    "collapsed": false
   },
   "outputs": [
    {
     "data": {
      "text/plain": [
       "58.839829846127088"
      ]
     },
     "execution_count": 12,
     "metadata": {},
     "output_type": "execute_result"
    }
   ],
   "source": [
    "def feture_robot(X,y,dummy_col=[]):\n",
    "    \n",
    "    global label #样本标签\n",
    "    label=y\n",
    "    \n",
    "    #新建缓存数据文件夹\n",
    "    global path_tmp\n",
    "    path_tmp = os.path.abspath(cf.path)+'/pickledata'\n",
    "    if not os.path.exists(path_tmp):\n",
    "        os.makedirs(path_tmp)\n",
    "    \n",
    "    if len(dummy_col)>0:\n",
    "        print \"=====特征预处理中,请稍后.....==========\"\n",
    "        X = dummy_data(dummy_col,X)\n",
    "    \n",
    "    if cf.null_ratio<1:\n",
    "        print \"=====特征筛选中,请稍后.....========\"\n",
    "        X = null_filter(X)\n",
    "    \n",
    "    if cf.std_num>0:\n",
    "        X = std_filter(X)\n",
    "        \n",
    "    print \"===============================开始进行特征变换，请稍后......====================================\"\n",
    "    funs = cf.funcs\n",
    "    for op in funs:\n",
    "        feature_cross(X,op)\n",
    "                    \n",
    "                \n",
    "    \n",
    "    "
   ]
  },
  {
   "cell_type": "code",
   "execution_count": 37,
   "metadata": {
    "collapsed": false
   },
   "outputs": [
    {
     "name": "stdout",
     "output_type": "stream",
     "text": [
      "=====过滤空值较多的列======\n"
     ]
    },
    {
     "data": {
      "text/plain": [
       "(215737, 1)"
      ]
     },
     "execution_count": 37,
     "metadata": {},
     "output_type": "execute_result"
    }
   ],
   "source": [
    "if cf.null_ratio<1:\n",
    "    null_filter(feat)\n",
    "feat.shape"
   ]
  },
  {
   "cell_type": "code",
   "execution_count": 9,
   "metadata": {
    "collapsed": false
   },
   "outputs": [
    {
     "data": {
      "text/plain": [
       "(215737, 17)"
      ]
     },
     "execution_count": 9,
     "metadata": {},
     "output_type": "execute_result"
    }
   ],
   "source": [
    "p=Pool()\n",
    "for i in xrange(3):\n",
    "    p.apply_async(null_filter,(feat.iloc[:,i:(i+1)*4]))\n",
    "p.close()\n",
    "p.join()\n",
    "feat.shape"
   ]
  },
  {
   "cell_type": "code",
   "execution_count": 8,
   "metadata": {
    "collapsed": false
   },
   "outputs": [
    {
     "data": {
      "text/plain": [
       "43147.4"
      ]
     },
     "execution_count": 8,
     "metadata": {},
     "output_type": "execute_result"
    }
   ],
   "source": [
    "feat.shape[0]*cf.null_ratio"
   ]
  },
  {
   "cell_type": "code",
   "execution_count": 13,
   "metadata": {
    "collapsed": false
   },
   "outputs": [
    {
     "data": {
      "text/plain": [
       "(145066, 1)"
      ]
     },
     "execution_count": 13,
     "metadata": {},
     "output_type": "execute_result"
    }
   ],
   "source": [
    "np.mat(feat[['score']]).shape"
   ]
  },
  {
   "cell_type": "code",
   "execution_count": 11,
   "metadata": {
    "collapsed": false
   },
   "outputs": [
    {
     "data": {
      "text/plain": [
       "matrix([[ 0.00139082,  0.00134048,  0.00150376, ...,  0.00126904,\n",
       "          0.00137552,  0.00142045]])"
      ]
     },
     "execution_count": 11,
     "metadata": {},
     "output_type": "execute_result"
    }
   ],
   "source": [
    "X1=feat['score']\n",
    "oney = np.mat(np.ones(X1.shape[0])).T\n",
    "oney\n",
    "with np.errstate(divide='ignore', invalid='ignore'):\n",
    "    a = np.true_divide(oney.T, np.mat(X1, dtype=float))\n",
    "a"
   ]
  },
  {
   "cell_type": "code",
   "execution_count": 9,
   "metadata": {
    "collapsed": false
   },
   "outputs": [
    {
     "ename": "IndentationError",
     "evalue": "unexpected indent (<ipython-input-9-ab79625a9faa>, line 3)",
     "output_type": "error",
     "traceback": [
      "\u001b[1;36m  File \u001b[1;32m\"<ipython-input-9-ab79625a9faa>\"\u001b[1;36m, line \u001b[1;32m3\u001b[0m\n\u001b[1;33m    a[a == np.inf] = -999\u001b[0m\n\u001b[1;37m    ^\u001b[0m\n\u001b[1;31mIndentationError\u001b[0m\u001b[1;31m:\u001b[0m unexpected indent\n"
     ]
    }
   ],
   "source": [
    "with np.errstate(divide='ignore', invalid='ignore'):  # 1/x\n",
    "    a = np.true_divide(oney.T, np.mat(X1[1:, i], dtype=float))\n",
    "                a[a == np.inf] = -999\n",
    "            head = np.mat([\"1/{}\".format(str(X1[0, i]))])  # 保存header"
   ]
  },
  {
   "cell_type": "code",
   "execution_count": 4,
   "metadata": {
    "collapsed": false
   },
   "outputs": [
    {
     "ename": "AttributeError",
     "evalue": "'Series' object has no attribute 'columns'",
     "output_type": "error",
     "traceback": [
      "\u001b[1;31m---------------------------------------------------------------------------\u001b[0m",
      "\u001b[1;31mAttributeError\u001b[0m                            Traceback (most recent call last)",
      "\u001b[1;32m<ipython-input-4-b15962f0ecd1>\u001b[0m in \u001b[0;36m<module>\u001b[1;34m()\u001b[0m\n\u001b[1;32m----> 1\u001b[1;33m \u001b[0mfeat\u001b[0m\u001b[1;33m[\u001b[0m\u001b[1;34m'score'\u001b[0m\u001b[1;33m]\u001b[0m\u001b[1;33m.\u001b[0m\u001b[0mcolumns\u001b[0m\u001b[1;33m\u001b[0m\u001b[0m\n\u001b[0m",
      "\u001b[1;32m/home/sf/anaconda2/lib/python2.7/site-packages/pandas/core/generic.pyc\u001b[0m in \u001b[0;36m__getattr__\u001b[1;34m(self, name)\u001b[0m\n\u001b[0;32m   2964\u001b[0m         if (name in self._internal_names_set or name in self._metadata or\n\u001b[0;32m   2965\u001b[0m                 name in self._accessors):\n\u001b[1;32m-> 2966\u001b[1;33m             \u001b[1;32mreturn\u001b[0m \u001b[0mobject\u001b[0m\u001b[1;33m.\u001b[0m\u001b[0m__getattribute__\u001b[0m\u001b[1;33m(\u001b[0m\u001b[0mself\u001b[0m\u001b[1;33m,\u001b[0m \u001b[0mname\u001b[0m\u001b[1;33m)\u001b[0m\u001b[1;33m\u001b[0m\u001b[0m\n\u001b[0m\u001b[0;32m   2967\u001b[0m         \u001b[1;32melse\u001b[0m\u001b[1;33m:\u001b[0m\u001b[1;33m\u001b[0m\u001b[0m\n\u001b[0;32m   2968\u001b[0m             \u001b[1;32mif\u001b[0m \u001b[0mname\u001b[0m \u001b[1;32min\u001b[0m \u001b[0mself\u001b[0m\u001b[1;33m.\u001b[0m\u001b[0m_info_axis\u001b[0m\u001b[1;33m:\u001b[0m\u001b[1;33m\u001b[0m\u001b[0m\n",
      "\u001b[1;31mAttributeError\u001b[0m: 'Series' object has no attribute 'columns'"
     ]
    }
   ],
   "source": [
    "feat['score'].columns"
   ]
  },
  {
   "cell_type": "code",
   "execution_count": 15,
   "metadata": {
    "collapsed": false
   },
   "outputs": [
    {
     "data": {
      "text/plain": [
       "matrix([[ 719.,  746.,  665., ...,  788.,  727.,  704.]])"
      ]
     },
     "execution_count": 15,
     "metadata": {},
     "output_type": "execute_result"
    }
   ],
   "source": [
    "np.mat(np.ones(X1.shape[0]))\n",
    "np.mat(X1, dtype=float)"
   ]
  },
  {
   "cell_type": "code",
   "execution_count": 22,
   "metadata": {
    "collapsed": true
   },
   "outputs": [
    {
     "data": {
      "text/plain": [
       "matrix([[ 719.],\n",
       "        [ 746.],\n",
       "        [ 665.],\n",
       "        ..., \n",
       "        [ 788.],\n",
       "        [ 727.],\n",
       "        [ 704.]])"
      ]
     },
     "execution_count": 22,
     "metadata": {},
     "output_type": "execute_result"
    }
   ],
   "source": [
    "np.mat(feat.iloc[:,0], dtype=float).T"
   ]
  },
  {
   "cell_type": "code",
   "execution_count": 40,
   "metadata": {
    "collapsed": false
   },
   "outputs": [
    {
     "data": {
      "text/plain": [
       "2.0"
      ]
     },
     "execution_count": 40,
     "metadata": {},
     "output_type": "execute_result"
    }
   ],
   "source": [
    "m = np.ones((feat.shape[0], 1)) * 2\n",
    "m[0,0]"
   ]
  },
  {
   "cell_type": "code",
   "execution_count": 25,
   "metadata": {
    "collapsed": false
   },
   "outputs": [
    {
     "data": {
      "text/plain": [
       "array([  0,   1,   2, ..., 102,   5,  41])"
      ]
     },
     "execution_count": 25,
     "metadata": {},
     "output_type": "execute_result"
    }
   ],
   "source": [
    "pd.factorize(feat['score'])[0]"
   ]
  },
  {
   "cell_type": "code",
   "execution_count": 38,
   "metadata": {
    "collapsed": false
   },
   "outputs": [
    {
     "name": "stdout",
     "output_type": "stream",
     "text": [
      "ok\n"
     ]
    }
   ],
   "source": [
    "if not 100%4:\n",
    "    print 'ok'\n"
   ]
  },
  {
   "cell_type": "code",
   "execution_count": 32,
   "metadata": {
    "collapsed": false
   },
   "outputs": [
    {
     "name": "stdout",
     "output_type": "stream",
     "text": [
      "0 24\n",
      "24 48\n",
      "48 72\n",
      "72 96\n"
     ]
    }
   ],
   "source": [
    "for i in xrange(4):\n",
    "    print 24*i,24*(i+1)"
   ]
  },
  {
   "cell_type": "code",
   "execution_count": null,
   "metadata": {
    "collapsed": true
   },
   "outputs": [],
   "source": []
  }
 ],
 "metadata": {
  "kernelspec": {
   "display_name": "Python 2",
   "language": "python",
   "name": "python2"
  },
  "language_info": {
   "codemirror_mode": {
    "name": "ipython",
    "version": 2
   },
   "file_extension": ".py",
   "mimetype": "text/x-python",
   "name": "python",
   "nbconvert_exporter": "python",
   "pygments_lexer": "ipython2",
   "version": "2.7.13"
  }
 },
 "nbformat": 4,
 "nbformat_minor": 0
}
